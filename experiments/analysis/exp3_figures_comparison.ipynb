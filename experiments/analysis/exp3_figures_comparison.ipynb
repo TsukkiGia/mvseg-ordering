{
 "cells": [
  {
   "cell_type": "markdown",
   "id": "64ac604b",
   "metadata": {},
   "source": [
    "# Experiment 3 — Figures Comparison\n",
    "\n",
    "Compare commit_label vs commit_pred at Dice cutoffs 0.90 and 0.97.\n",
    "Grouped by Plan A, Plan C, and Plan B."
   ]
  },
  {
   "cell_type": "code",
   "execution_count": 1,
   "id": "4a708579",
   "metadata": {},
   "outputs": [],
   "source": [
    "from pathlib import Path\n",
    "from IPython.display import display, HTML\n",
    "\n",
    "def _repo_root():\n",
    "    p = Path().resolve()\n",
    "    for cand in [p] + list(p.parents):\n",
    "        if (cand / 'experiments' / 'scripts').is_dir():\n",
    "            return cand\n",
    "    return p\n",
    "\n",
    "ROOT = _repo_root()\n",
    "base = ROOT / 'experiments' / 'scripts' / 'experiment_3'\n",
    "paths = {\n",
    "    'commit_label_90': base / 'commit_label_90',\n",
    "    'commit_label_97': base / 'commit_label_97',\n",
    "    'commit_pred_90': base / 'commit_pred_90',\n",
    "    'commit_pred_97': base / 'commit_pred_97',\n",
    "}\n",
    "\n",
    "def plan_a_figures(root: Path) -> Path: return root / 'A' / 'results' / 'figures'\n",
    "def plan_b_figures(root: Path) -> Path: return root / 'B' / 'figures'\n",
    "\n",
    "def list_pngs(p: Path):\n",
    "    if not p.exists():\n",
    "        return {}\n",
    "    return {f.name: f for f in sorted(p.glob('*.png'))}\n",
    "\n",
    "def build_pairs(dir90: Path, dir97: Path, filter_fn=lambda n: True):\n",
    "    d90, d97 = list_pngs(dir90), list_pngs(dir97)\n",
    "    commons = sorted(n for n in (d90.keys() & d97.keys()) if filter_fn(n))\n",
    "    return [(n, str(d90[n]), str(d97[n])) for n in commons]\n",
    "\n",
    "def build_pairs_map(dir90: Path, dir97: Path, filter_fn=lambda n: True):\n",
    "    d90, d97 = list_pngs(dir90), list_pngs(dir97)\n",
    "    names = sorted(n for n in (d90.keys() & d97.keys()) if filter_fn(n))\n",
    "    return {n: (str(d90[n]), str(d97[n])) for n in names}\n",
    "\n",
    "def show_interleaved(heading, label_map, pred_map, col_titles=('cutoff 0.90','cutoff 0.97')):\n",
    "    display(HTML(f'<h2 style=\"margin-top:18px\">{heading}</h2>'))\n",
    "    names = sorted(set(label_map.keys()) | set(pred_map.keys()))\n",
    "    if not names:\n",
    "        display(HTML('<p><em>No matching figures.</em></p>'))\n",
    "        return\n",
    "    rows = []\n",
    "    for name in names:\n",
    "        rows.append(f'<tr><td colspan=2 style=\"text-align:center;font-weight:600;padding-top:14px\">{name}</td></tr>')\n",
    "        if name in label_map:\n",
    "            p90, p97 = label_map[name]\n",
    "            rows.append(\n",
    "                f'<tr><td style=\\\"width:50%;text-align:center\\\"><div style=\\\"font-size:12px;color:#555\\\">commit_label — {col_titles[0]}</div><img src=\\\"{p90}\\\" style=\\\"max-width:100%;border:1px solid #ddd\\\"/></td>'\n",
    "                f'<td style=\\\"width:50%;text-align:center\\\"><div style=\\\"font-size:12px;color:#555\\\">commit_label — {col_titles[1]}</div><img src=\\\"{p97}\\\" style=\\\"max-width:100%;border:1px solid #ddd\\\"/></td></tr>'\n",
    "            )\n",
    "        if name in pred_map:\n",
    "            p90, p97 = pred_map[name]\n",
    "            rows.append(\n",
    "                f'<tr><td style=\\\"width:50%;text-align:center\\\"><div style=\\\"font-size:12px;color:#555\\\">commit_pred — {col_titles[0]}</div><img src=\\\"{p90}\\\" style=\\\"max-width:100%;border:1px solid #ddd\\\"/></td>'\n",
    "                f'<td style=\\\"width:50%;text-align:center\\\"><div style=\\\"font-size:12px;color:#555\\\">commit_pred — {col_titles[1]}</div><img src=\\\"{p97}\\\" style=\\\"max-width:100%;border:1px solid #ddd\\\"/></td></tr>'\n",
    "            )\n",
    "    html = \"<table style=\\\"width:100%\\\">{}</table>\".format(\"\\n\".join(rows))\n",
    "    display(HTML(html))\n",
    "\n",
    "is_plan_c = lambda n: n.startswith('eval_') or n.startswith('plan_c_')\n",
    "is_not_plan_c = lambda n: not is_plan_c(n)\n"
   ]
  },
  {
   "cell_type": "markdown",
   "id": "eb9c3b51",
   "metadata": {},
   "source": [
    "## Plan A (non‑Plan C) — Interleaved Label/Pred"
   ]
  },
  {
   "cell_type": "code",
   "execution_count": 2,
   "id": "5a8ddfa4",
   "metadata": {},
   "outputs": [
    {
     "data": {
      "text/html": [
       "<h2 style=\"margin-top:18px\">Plan A — Interleaved (commit_label & commit_pred)</h2>"
      ],
      "text/plain": [
       "<IPython.core.display.HTML object>"
      ]
     },
     "metadata": {},
     "output_type": "display_data"
    },
    {
     "data": {
      "text/html": [
       "<table style=\"width:100%\"><tr><td colspan=2 style=\"text-align:center;font-weight:600;padding-top:14px\">final_dice_mean_box.png</td></tr>\n",
       "<tr><td style=\"width:50%;text-align:center\"><div style=\"font-size:12px;color:#555\">commit_label — cutoff 0.90</div><img src=\"/data/ddmg/mvseg-ordering/experiments/scripts/experiment_3/commit_label_90/A/results/figures/final_dice_mean_box.png\" style=\"max-width:100%;border:1px solid #ddd\"/></td><td style=\"width:50%;text-align:center\"><div style=\"font-size:12px;color:#555\">commit_label — cutoff 0.97</div><img src=\"/data/ddmg/mvseg-ordering/experiments/scripts/experiment_3/commit_label_97/A/results/figures/final_dice_mean_box.png\" style=\"max-width:100%;border:1px solid #ddd\"/></td></tr>\n",
       "<tr><td style=\"width:50%;text-align:center\"><div style=\"font-size:12px;color:#555\">commit_pred — cutoff 0.90</div><img src=\"/data/ddmg/mvseg-ordering/experiments/scripts/experiment_3/commit_pred_90/A/results/figures/final_dice_mean_box.png\" style=\"max-width:100%;border:1px solid #ddd\"/></td><td style=\"width:50%;text-align:center\"><div style=\"font-size:12px;color:#555\">commit_pred — cutoff 0.97</div><img src=\"/data/ddmg/mvseg-ordering/experiments/scripts/experiment_3/commit_pred_97/A/results/figures/final_dice_mean_box.png\" style=\"max-width:100%;border:1px solid #ddd\"/></td></tr>\n",
       "<tr><td colspan=2 style=\"text-align:center;font-weight:600;padding-top:14px\">final_dice_mean_hist.png</td></tr>\n",
       "<tr><td style=\"width:50%;text-align:center\"><div style=\"font-size:12px;color:#555\">commit_label — cutoff 0.90</div><img src=\"/data/ddmg/mvseg-ordering/experiments/scripts/experiment_3/commit_label_90/A/results/figures/final_dice_mean_hist.png\" style=\"max-width:100%;border:1px solid #ddd\"/></td><td style=\"width:50%;text-align:center\"><div style=\"font-size:12px;color:#555\">commit_label — cutoff 0.97</div><img src=\"/data/ddmg/mvseg-ordering/experiments/scripts/experiment_3/commit_label_97/A/results/figures/final_dice_mean_hist.png\" style=\"max-width:100%;border:1px solid #ddd\"/></td></tr>\n",
       "<tr><td style=\"width:50%;text-align:center\"><div style=\"font-size:12px;color:#555\">commit_pred — cutoff 0.90</div><img src=\"/data/ddmg/mvseg-ordering/experiments/scripts/experiment_3/commit_pred_90/A/results/figures/final_dice_mean_hist.png\" style=\"max-width:100%;border:1px solid #ddd\"/></td><td style=\"width:50%;text-align:center\"><div style=\"font-size:12px;color:#555\">commit_pred — cutoff 0.97</div><img src=\"/data/ddmg/mvseg-ordering/experiments/scripts/experiment_3/commit_pred_97/A/results/figures/final_dice_mean_hist.png\" style=\"max-width:100%;border:1px solid #ddd\"/></td></tr>\n",
       "<tr><td colspan=2 style=\"text-align:center;font-weight:600;padding-top:14px\">initial_dice_iqr.png</td></tr>\n",
       "<tr><td style=\"width:50%;text-align:center\"><div style=\"font-size:12px;color:#555\">commit_label — cutoff 0.90</div><img src=\"/data/ddmg/mvseg-ordering/experiments/scripts/experiment_3/commit_label_90/A/results/figures/initial_dice_iqr.png\" style=\"max-width:100%;border:1px solid #ddd\"/></td><td style=\"width:50%;text-align:center\"><div style=\"font-size:12px;color:#555\">commit_label — cutoff 0.97</div><img src=\"/data/ddmg/mvseg-ordering/experiments/scripts/experiment_3/commit_label_97/A/results/figures/initial_dice_iqr.png\" style=\"max-width:100%;border:1px solid #ddd\"/></td></tr>\n",
       "<tr><td style=\"width:50%;text-align:center\"><div style=\"font-size:12px;color:#555\">commit_pred — cutoff 0.90</div><img src=\"/data/ddmg/mvseg-ordering/experiments/scripts/experiment_3/commit_pred_90/A/results/figures/initial_dice_iqr.png\" style=\"max-width:100%;border:1px solid #ddd\"/></td><td style=\"width:50%;text-align:center\"><div style=\"font-size:12px;color:#555\">commit_pred — cutoff 0.97</div><img src=\"/data/ddmg/mvseg-ordering/experiments/scripts/experiment_3/commit_pred_97/A/results/figures/initial_dice_iqr.png\" style=\"max-width:100%;border:1px solid #ddd\"/></td></tr>\n",
       "<tr><td colspan=2 style=\"text-align:center;font-weight:600;padding-top:14px\">initial_dice_mean_box.png</td></tr>\n",
       "<tr><td style=\"width:50%;text-align:center\"><div style=\"font-size:12px;color:#555\">commit_label — cutoff 0.90</div><img src=\"/data/ddmg/mvseg-ordering/experiments/scripts/experiment_3/commit_label_90/A/results/figures/initial_dice_mean_box.png\" style=\"max-width:100%;border:1px solid #ddd\"/></td><td style=\"width:50%;text-align:center\"><div style=\"font-size:12px;color:#555\">commit_label — cutoff 0.97</div><img src=\"/data/ddmg/mvseg-ordering/experiments/scripts/experiment_3/commit_label_97/A/results/figures/initial_dice_mean_box.png\" style=\"max-width:100%;border:1px solid #ddd\"/></td></tr>\n",
       "<tr><td style=\"width:50%;text-align:center\"><div style=\"font-size:12px;color:#555\">commit_pred — cutoff 0.90</div><img src=\"/data/ddmg/mvseg-ordering/experiments/scripts/experiment_3/commit_pred_90/A/results/figures/initial_dice_mean_box.png\" style=\"max-width:100%;border:1px solid #ddd\"/></td><td style=\"width:50%;text-align:center\"><div style=\"font-size:12px;color:#555\">commit_pred — cutoff 0.97</div><img src=\"/data/ddmg/mvseg-ordering/experiments/scripts/experiment_3/commit_pred_97/A/results/figures/initial_dice_mean_box.png\" style=\"max-width:100%;border:1px solid #ddd\"/></td></tr>\n",
       "<tr><td colspan=2 style=\"text-align:center;font-weight:600;padding-top:14px\">initial_dice_mean_hist.png</td></tr>\n",
       "<tr><td style=\"width:50%;text-align:center\"><div style=\"font-size:12px;color:#555\">commit_label — cutoff 0.90</div><img src=\"/data/ddmg/mvseg-ordering/experiments/scripts/experiment_3/commit_label_90/A/results/figures/initial_dice_mean_hist.png\" style=\"max-width:100%;border:1px solid #ddd\"/></td><td style=\"width:50%;text-align:center\"><div style=\"font-size:12px;color:#555\">commit_label — cutoff 0.97</div><img src=\"/data/ddmg/mvseg-ordering/experiments/scripts/experiment_3/commit_label_97/A/results/figures/initial_dice_mean_hist.png\" style=\"max-width:100%;border:1px solid #ddd\"/></td></tr>\n",
       "<tr><td style=\"width:50%;text-align:center\"><div style=\"font-size:12px;color:#555\">commit_pred — cutoff 0.90</div><img src=\"/data/ddmg/mvseg-ordering/experiments/scripts/experiment_3/commit_pred_90/A/results/figures/initial_dice_mean_hist.png\" style=\"max-width:100%;border:1px solid #ddd\"/></td><td style=\"width:50%;text-align:center\"><div style=\"font-size:12px;color:#555\">commit_pred — cutoff 0.97</div><img src=\"/data/ddmg/mvseg-ordering/experiments/scripts/experiment_3/commit_pred_97/A/results/figures/initial_dice_mean_hist.png\" style=\"max-width:100%;border:1px solid #ddd\"/></td></tr>\n",
       "<tr><td colspan=2 style=\"text-align:center;font-weight:600;padding-top:14px\">initial_dice_range.png</td></tr>\n",
       "<tr><td style=\"width:50%;text-align:center\"><div style=\"font-size:12px;color:#555\">commit_label — cutoff 0.90</div><img src=\"/data/ddmg/mvseg-ordering/experiments/scripts/experiment_3/commit_label_90/A/results/figures/initial_dice_range.png\" style=\"max-width:100%;border:1px solid #ddd\"/></td><td style=\"width:50%;text-align:center\"><div style=\"font-size:12px;color:#555\">commit_label — cutoff 0.97</div><img src=\"/data/ddmg/mvseg-ordering/experiments/scripts/experiment_3/commit_label_97/A/results/figures/initial_dice_range.png\" style=\"max-width:100%;border:1px solid #ddd\"/></td></tr>\n",
       "<tr><td style=\"width:50%;text-align:center\"><div style=\"font-size:12px;color:#555\">commit_pred — cutoff 0.90</div><img src=\"/data/ddmg/mvseg-ordering/experiments/scripts/experiment_3/commit_pred_90/A/results/figures/initial_dice_range.png\" style=\"max-width:100%;border:1px solid #ddd\"/></td><td style=\"width:50%;text-align:center\"><div style=\"font-size:12px;color:#555\">commit_pred — cutoff 0.97</div><img src=\"/data/ddmg/mvseg-ordering/experiments/scripts/experiment_3/commit_pred_97/A/results/figures/initial_dice_range.png\" style=\"max-width:100%;border:1px solid #ddd\"/></td></tr>\n",
       "<tr><td colspan=2 style=\"text-align:center;font-weight:600;padding-top:14px\">iterations_iqr.png</td></tr>\n",
       "<tr><td style=\"width:50%;text-align:center\"><div style=\"font-size:12px;color:#555\">commit_label — cutoff 0.90</div><img src=\"/data/ddmg/mvseg-ordering/experiments/scripts/experiment_3/commit_label_90/A/results/figures/iterations_iqr.png\" style=\"max-width:100%;border:1px solid #ddd\"/></td><td style=\"width:50%;text-align:center\"><div style=\"font-size:12px;color:#555\">commit_label — cutoff 0.97</div><img src=\"/data/ddmg/mvseg-ordering/experiments/scripts/experiment_3/commit_label_97/A/results/figures/iterations_iqr.png\" style=\"max-width:100%;border:1px solid #ddd\"/></td></tr>\n",
       "<tr><td style=\"width:50%;text-align:center\"><div style=\"font-size:12px;color:#555\">commit_pred — cutoff 0.90</div><img src=\"/data/ddmg/mvseg-ordering/experiments/scripts/experiment_3/commit_pred_90/A/results/figures/iterations_iqr.png\" style=\"max-width:100%;border:1px solid #ddd\"/></td><td style=\"width:50%;text-align:center\"><div style=\"font-size:12px;color:#555\">commit_pred — cutoff 0.97</div><img src=\"/data/ddmg/mvseg-ordering/experiments/scripts/experiment_3/commit_pred_97/A/results/figures/iterations_iqr.png\" style=\"max-width:100%;border:1px solid #ddd\"/></td></tr>\n",
       "<tr><td colspan=2 style=\"text-align:center;font-weight:600;padding-top:14px\">iterations_mean_box.png</td></tr>\n",
       "<tr><td style=\"width:50%;text-align:center\"><div style=\"font-size:12px;color:#555\">commit_label — cutoff 0.90</div><img src=\"/data/ddmg/mvseg-ordering/experiments/scripts/experiment_3/commit_label_90/A/results/figures/iterations_mean_box.png\" style=\"max-width:100%;border:1px solid #ddd\"/></td><td style=\"width:50%;text-align:center\"><div style=\"font-size:12px;color:#555\">commit_label — cutoff 0.97</div><img src=\"/data/ddmg/mvseg-ordering/experiments/scripts/experiment_3/commit_label_97/A/results/figures/iterations_mean_box.png\" style=\"max-width:100%;border:1px solid #ddd\"/></td></tr>\n",
       "<tr><td style=\"width:50%;text-align:center\"><div style=\"font-size:12px;color:#555\">commit_pred — cutoff 0.90</div><img src=\"/data/ddmg/mvseg-ordering/experiments/scripts/experiment_3/commit_pred_90/A/results/figures/iterations_mean_box.png\" style=\"max-width:100%;border:1px solid #ddd\"/></td><td style=\"width:50%;text-align:center\"><div style=\"font-size:12px;color:#555\">commit_pred — cutoff 0.97</div><img src=\"/data/ddmg/mvseg-ordering/experiments/scripts/experiment_3/commit_pred_97/A/results/figures/iterations_mean_box.png\" style=\"max-width:100%;border:1px solid #ddd\"/></td></tr>\n",
       "<tr><td colspan=2 style=\"text-align:center;font-weight:600;padding-top:14px\">iterations_mean_hist.png</td></tr>\n",
       "<tr><td style=\"width:50%;text-align:center\"><div style=\"font-size:12px;color:#555\">commit_label — cutoff 0.90</div><img src=\"/data/ddmg/mvseg-ordering/experiments/scripts/experiment_3/commit_label_90/A/results/figures/iterations_mean_hist.png\" style=\"max-width:100%;border:1px solid #ddd\"/></td><td style=\"width:50%;text-align:center\"><div style=\"font-size:12px;color:#555\">commit_label — cutoff 0.97</div><img src=\"/data/ddmg/mvseg-ordering/experiments/scripts/experiment_3/commit_label_97/A/results/figures/iterations_mean_hist.png\" style=\"max-width:100%;border:1px solid #ddd\"/></td></tr>\n",
       "<tr><td style=\"width:50%;text-align:center\"><div style=\"font-size:12px;color:#555\">commit_pred — cutoff 0.90</div><img src=\"/data/ddmg/mvseg-ordering/experiments/scripts/experiment_3/commit_pred_90/A/results/figures/iterations_mean_hist.png\" style=\"max-width:100%;border:1px solid #ddd\"/></td><td style=\"width:50%;text-align:center\"><div style=\"font-size:12px;color:#555\">commit_pred — cutoff 0.97</div><img src=\"/data/ddmg/mvseg-ordering/experiments/scripts/experiment_3/commit_pred_97/A/results/figures/iterations_mean_hist.png\" style=\"max-width:100%;border:1px solid #ddd\"/></td></tr>\n",
       "<tr><td colspan=2 style=\"text-align:center;font-weight:600;padding-top:14px\">iterations_sum_box.png</td></tr>\n",
       "<tr><td style=\"width:50%;text-align:center\"><div style=\"font-size:12px;color:#555\">commit_label — cutoff 0.90</div><img src=\"/data/ddmg/mvseg-ordering/experiments/scripts/experiment_3/commit_label_90/A/results/figures/iterations_sum_box.png\" style=\"max-width:100%;border:1px solid #ddd\"/></td><td style=\"width:50%;text-align:center\"><div style=\"font-size:12px;color:#555\">commit_label — cutoff 0.97</div><img src=\"/data/ddmg/mvseg-ordering/experiments/scripts/experiment_3/commit_label_97/A/results/figures/iterations_sum_box.png\" style=\"max-width:100%;border:1px solid #ddd\"/></td></tr>\n",
       "<tr><td style=\"width:50%;text-align:center\"><div style=\"font-size:12px;color:#555\">commit_pred — cutoff 0.90</div><img src=\"/data/ddmg/mvseg-ordering/experiments/scripts/experiment_3/commit_pred_90/A/results/figures/iterations_sum_box.png\" style=\"max-width:100%;border:1px solid #ddd\"/></td><td style=\"width:50%;text-align:center\"><div style=\"font-size:12px;color:#555\">commit_pred — cutoff 0.97</div><img src=\"/data/ddmg/mvseg-ordering/experiments/scripts/experiment_3/commit_pred_97/A/results/figures/iterations_sum_box.png\" style=\"max-width:100%;border:1px solid #ddd\"/></td></tr>\n",
       "<tr><td colspan=2 style=\"text-align:center;font-weight:600;padding-top:14px\">iterations_sum_hist.png</td></tr>\n",
       "<tr><td style=\"width:50%;text-align:center\"><div style=\"font-size:12px;color:#555\">commit_label — cutoff 0.90</div><img src=\"/data/ddmg/mvseg-ordering/experiments/scripts/experiment_3/commit_label_90/A/results/figures/iterations_sum_hist.png\" style=\"max-width:100%;border:1px solid #ddd\"/></td><td style=\"width:50%;text-align:center\"><div style=\"font-size:12px;color:#555\">commit_label — cutoff 0.97</div><img src=\"/data/ddmg/mvseg-ordering/experiments/scripts/experiment_3/commit_label_97/A/results/figures/iterations_sum_hist.png\" style=\"max-width:100%;border:1px solid #ddd\"/></td></tr>\n",
       "<tr><td style=\"width:50%;text-align:center\"><div style=\"font-size:12px;color:#555\">commit_pred — cutoff 0.90</div><img src=\"/data/ddmg/mvseg-ordering/experiments/scripts/experiment_3/commit_pred_90/A/results/figures/iterations_sum_hist.png\" style=\"max-width:100%;border:1px solid #ddd\"/></td><td style=\"width:50%;text-align:center\"><div style=\"font-size:12px;color:#555\">commit_pred — cutoff 0.97</div><img src=\"/data/ddmg/mvseg-ordering/experiments/scripts/experiment_3/commit_pred_97/A/results/figures/iterations_sum_hist.png\" style=\"max-width:100%;border:1px solid #ddd\"/></td></tr>\n",
       "<tr><td colspan=2 style=\"text-align:center;font-weight:600;padding-top:14px\">reached_cutoff_percentage_box.png</td></tr>\n",
       "<tr><td style=\"width:50%;text-align:center\"><div style=\"font-size:12px;color:#555\">commit_label — cutoff 0.90</div><img src=\"/data/ddmg/mvseg-ordering/experiments/scripts/experiment_3/commit_label_90/A/results/figures/reached_cutoff_percentage_box.png\" style=\"max-width:100%;border:1px solid #ddd\"/></td><td style=\"width:50%;text-align:center\"><div style=\"font-size:12px;color:#555\">commit_label — cutoff 0.97</div><img src=\"/data/ddmg/mvseg-ordering/experiments/scripts/experiment_3/commit_label_97/A/results/figures/reached_cutoff_percentage_box.png\" style=\"max-width:100%;border:1px solid #ddd\"/></td></tr>\n",
       "<tr><td style=\"width:50%;text-align:center\"><div style=\"font-size:12px;color:#555\">commit_pred — cutoff 0.90</div><img src=\"/data/ddmg/mvseg-ordering/experiments/scripts/experiment_3/commit_pred_90/A/results/figures/reached_cutoff_percentage_box.png\" style=\"max-width:100%;border:1px solid #ddd\"/></td><td style=\"width:50%;text-align:center\"><div style=\"font-size:12px;color:#555\">commit_pred — cutoff 0.97</div><img src=\"/data/ddmg/mvseg-ordering/experiments/scripts/experiment_3/commit_pred_97/A/results/figures/reached_cutoff_percentage_box.png\" style=\"max-width:100%;border:1px solid #ddd\"/></td></tr>\n",
       "<tr><td colspan=2 style=\"text-align:center;font-weight:600;padding-top:14px\">reached_cutoff_percentage_hist.png</td></tr>\n",
       "<tr><td style=\"width:50%;text-align:center\"><div style=\"font-size:12px;color:#555\">commit_label — cutoff 0.90</div><img src=\"/data/ddmg/mvseg-ordering/experiments/scripts/experiment_3/commit_label_90/A/results/figures/reached_cutoff_percentage_hist.png\" style=\"max-width:100%;border:1px solid #ddd\"/></td><td style=\"width:50%;text-align:center\"><div style=\"font-size:12px;color:#555\">commit_label — cutoff 0.97</div><img src=\"/data/ddmg/mvseg-ordering/experiments/scripts/experiment_3/commit_label_97/A/results/figures/reached_cutoff_percentage_hist.png\" style=\"max-width:100%;border:1px solid #ddd\"/></td></tr>\n",
       "<tr><td style=\"width:50%;text-align:center\"><div style=\"font-size:12px;color:#555\">commit_pred — cutoff 0.90</div><img src=\"/data/ddmg/mvseg-ordering/experiments/scripts/experiment_3/commit_pred_90/A/results/figures/reached_cutoff_percentage_hist.png\" style=\"max-width:100%;border:1px solid #ddd\"/></td><td style=\"width:50%;text-align:center\"><div style=\"font-size:12px;color:#555\">commit_pred — cutoff 0.97</div><img src=\"/data/ddmg/mvseg-ordering/experiments/scripts/experiment_3/commit_pred_97/A/results/figures/reached_cutoff_percentage_hist.png\" style=\"max-width:100%;border:1px solid #ddd\"/></td></tr></table>"
      ],
      "text/plain": [
       "<IPython.core.display.HTML object>"
      ]
     },
     "metadata": {},
     "output_type": "display_data"
    }
   ],
   "source": [
    "label_map = build_pairs_map(plan_a_figures(paths['commit_label_90']), plan_a_figures(paths['commit_label_97']), is_not_plan_c)\n",
    "pred_map = build_pairs_map(plan_a_figures(paths['commit_pred_90']), plan_a_figures(paths['commit_pred_97']), is_not_plan_c)\n",
    "show_interleaved('Plan A — Interleaved (commit_label & commit_pred)', label_map, pred_map)\n"
   ]
  },
  {
   "cell_type": "markdown",
   "id": "08cf5de7",
   "metadata": {},
   "source": [
    "## Plan C (eval_* + plan_c_*) — Interleaved Label/Pred"
   ]
  },
  {
   "cell_type": "code",
   "execution_count": 3,
   "id": "58348ffc",
   "metadata": {},
   "outputs": [
    {
     "data": {
      "text/html": [
       "<h2 style=\"margin-top:18px\">Plan C — Interleaved (commit_label & commit_pred)</h2>"
      ],
      "text/plain": [
       "<IPython.core.display.HTML object>"
      ]
     },
     "metadata": {},
     "output_type": "display_data"
    },
    {
     "data": {
      "text/html": [
       "<table style=\"width:100%\"><tr><td colspan=2 style=\"text-align:center;font-weight:600;padding-top:14px\">eval_final_dice_iqr.png</td></tr>\n",
       "<tr><td style=\"width:50%;text-align:center\"><div style=\"font-size:12px;color:#555\">commit_label — cutoff 0.90</div><img src=\"/data/ddmg/mvseg-ordering/experiments/scripts/experiment_3/commit_label_90/A/results/figures/eval_final_dice_iqr.png\" style=\"max-width:100%;border:1px solid #ddd\"/></td><td style=\"width:50%;text-align:center\"><div style=\"font-size:12px;color:#555\">commit_label — cutoff 0.97</div><img src=\"/data/ddmg/mvseg-ordering/experiments/scripts/experiment_3/commit_label_97/A/results/figures/eval_final_dice_iqr.png\" style=\"max-width:100%;border:1px solid #ddd\"/></td></tr>\n",
       "<tr><td style=\"width:50%;text-align:center\"><div style=\"font-size:12px;color:#555\">commit_pred — cutoff 0.90</div><img src=\"/data/ddmg/mvseg-ordering/experiments/scripts/experiment_3/commit_pred_90/A/results/figures/eval_final_dice_iqr.png\" style=\"max-width:100%;border:1px solid #ddd\"/></td><td style=\"width:50%;text-align:center\"><div style=\"font-size:12px;color:#555\">commit_pred — cutoff 0.97</div><img src=\"/data/ddmg/mvseg-ordering/experiments/scripts/experiment_3/commit_pred_97/A/results/figures/eval_final_dice_iqr.png\" style=\"max-width:100%;border:1px solid #ddd\"/></td></tr>\n",
       "<tr><td colspan=2 style=\"text-align:center;font-weight:600;padding-top:14px\">eval_final_dice_range.png</td></tr>\n",
       "<tr><td style=\"width:50%;text-align:center\"><div style=\"font-size:12px;color:#555\">commit_label — cutoff 0.90</div><img src=\"/data/ddmg/mvseg-ordering/experiments/scripts/experiment_3/commit_label_90/A/results/figures/eval_final_dice_range.png\" style=\"max-width:100%;border:1px solid #ddd\"/></td><td style=\"width:50%;text-align:center\"><div style=\"font-size:12px;color:#555\">commit_label — cutoff 0.97</div><img src=\"/data/ddmg/mvseg-ordering/experiments/scripts/experiment_3/commit_label_97/A/results/figures/eval_final_dice_range.png\" style=\"max-width:100%;border:1px solid #ddd\"/></td></tr>\n",
       "<tr><td style=\"width:50%;text-align:center\"><div style=\"font-size:12px;color:#555\">commit_pred — cutoff 0.90</div><img src=\"/data/ddmg/mvseg-ordering/experiments/scripts/experiment_3/commit_pred_90/A/results/figures/eval_final_dice_range.png\" style=\"max-width:100%;border:1px solid #ddd\"/></td><td style=\"width:50%;text-align:center\"><div style=\"font-size:12px;color:#555\">commit_pred — cutoff 0.97</div><img src=\"/data/ddmg/mvseg-ordering/experiments/scripts/experiment_3/commit_pred_97/A/results/figures/eval_final_dice_range.png\" style=\"max-width:100%;border:1px solid #ddd\"/></td></tr>\n",
       "<tr><td colspan=2 style=\"text-align:center;font-weight:600;padding-top:14px\">eval_initial_dice_iqr.png</td></tr>\n",
       "<tr><td style=\"width:50%;text-align:center\"><div style=\"font-size:12px;color:#555\">commit_label — cutoff 0.90</div><img src=\"/data/ddmg/mvseg-ordering/experiments/scripts/experiment_3/commit_label_90/A/results/figures/eval_initial_dice_iqr.png\" style=\"max-width:100%;border:1px solid #ddd\"/></td><td style=\"width:50%;text-align:center\"><div style=\"font-size:12px;color:#555\">commit_label — cutoff 0.97</div><img src=\"/data/ddmg/mvseg-ordering/experiments/scripts/experiment_3/commit_label_97/A/results/figures/eval_initial_dice_iqr.png\" style=\"max-width:100%;border:1px solid #ddd\"/></td></tr>\n",
       "<tr><td style=\"width:50%;text-align:center\"><div style=\"font-size:12px;color:#555\">commit_pred — cutoff 0.90</div><img src=\"/data/ddmg/mvseg-ordering/experiments/scripts/experiment_3/commit_pred_90/A/results/figures/eval_initial_dice_iqr.png\" style=\"max-width:100%;border:1px solid #ddd\"/></td><td style=\"width:50%;text-align:center\"><div style=\"font-size:12px;color:#555\">commit_pred — cutoff 0.97</div><img src=\"/data/ddmg/mvseg-ordering/experiments/scripts/experiment_3/commit_pred_97/A/results/figures/eval_initial_dice_iqr.png\" style=\"max-width:100%;border:1px solid #ddd\"/></td></tr>\n",
       "<tr><td colspan=2 style=\"text-align:center;font-weight:600;padding-top:14px\">eval_initial_dice_range.png</td></tr>\n",
       "<tr><td style=\"width:50%;text-align:center\"><div style=\"font-size:12px;color:#555\">commit_label — cutoff 0.90</div><img src=\"/data/ddmg/mvseg-ordering/experiments/scripts/experiment_3/commit_label_90/A/results/figures/eval_initial_dice_range.png\" style=\"max-width:100%;border:1px solid #ddd\"/></td><td style=\"width:50%;text-align:center\"><div style=\"font-size:12px;color:#555\">commit_label — cutoff 0.97</div><img src=\"/data/ddmg/mvseg-ordering/experiments/scripts/experiment_3/commit_label_97/A/results/figures/eval_initial_dice_range.png\" style=\"max-width:100%;border:1px solid #ddd\"/></td></tr>\n",
       "<tr><td style=\"width:50%;text-align:center\"><div style=\"font-size:12px;color:#555\">commit_pred — cutoff 0.90</div><img src=\"/data/ddmg/mvseg-ordering/experiments/scripts/experiment_3/commit_pred_90/A/results/figures/eval_initial_dice_range.png\" style=\"max-width:100%;border:1px solid #ddd\"/></td><td style=\"width:50%;text-align:center\"><div style=\"font-size:12px;color:#555\">commit_pred — cutoff 0.97</div><img src=\"/data/ddmg/mvseg-ordering/experiments/scripts/experiment_3/commit_pred_97/A/results/figures/eval_initial_dice_range.png\" style=\"max-width:100%;border:1px solid #ddd\"/></td></tr>\n",
       "<tr><td colspan=2 style=\"text-align:center;font-weight:600;padding-top:14px\">plan_c_avg_iterations_iqr.png</td></tr>\n",
       "<tr><td style=\"width:50%;text-align:center\"><div style=\"font-size:12px;color:#555\">commit_label — cutoff 0.90</div><img src=\"/data/ddmg/mvseg-ordering/experiments/scripts/experiment_3/commit_label_90/A/results/figures/plan_c_avg_iterations_iqr.png\" style=\"max-width:100%;border:1px solid #ddd\"/></td><td style=\"width:50%;text-align:center\"><div style=\"font-size:12px;color:#555\">commit_label — cutoff 0.97</div><img src=\"/data/ddmg/mvseg-ordering/experiments/scripts/experiment_3/commit_label_97/A/results/figures/plan_c_avg_iterations_iqr.png\" style=\"max-width:100%;border:1px solid #ddd\"/></td></tr>\n",
       "<tr><td style=\"width:50%;text-align:center\"><div style=\"font-size:12px;color:#555\">commit_pred — cutoff 0.90</div><img src=\"/data/ddmg/mvseg-ordering/experiments/scripts/experiment_3/commit_pred_90/A/results/figures/plan_c_avg_iterations_iqr.png\" style=\"max-width:100%;border:1px solid #ddd\"/></td><td style=\"width:50%;text-align:center\"><div style=\"font-size:12px;color:#555\">commit_pred — cutoff 0.97</div><img src=\"/data/ddmg/mvseg-ordering/experiments/scripts/experiment_3/commit_pred_97/A/results/figures/plan_c_avg_iterations_iqr.png\" style=\"max-width:100%;border:1px solid #ddd\"/></td></tr>\n",
       "<tr><td colspan=2 style=\"text-align:center;font-weight:600;padding-top:14px\">plan_c_avg_iterations_range.png</td></tr>\n",
       "<tr><td style=\"width:50%;text-align:center\"><div style=\"font-size:12px;color:#555\">commit_label — cutoff 0.90</div><img src=\"/data/ddmg/mvseg-ordering/experiments/scripts/experiment_3/commit_label_90/A/results/figures/plan_c_avg_iterations_range.png\" style=\"max-width:100%;border:1px solid #ddd\"/></td><td style=\"width:50%;text-align:center\"><div style=\"font-size:12px;color:#555\">commit_label — cutoff 0.97</div><img src=\"/data/ddmg/mvseg-ordering/experiments/scripts/experiment_3/commit_label_97/A/results/figures/plan_c_avg_iterations_range.png\" style=\"max-width:100%;border:1px solid #ddd\"/></td></tr>\n",
       "<tr><td style=\"width:50%;text-align:center\"><div style=\"font-size:12px;color:#555\">commit_pred — cutoff 0.90</div><img src=\"/data/ddmg/mvseg-ordering/experiments/scripts/experiment_3/commit_pred_90/A/results/figures/plan_c_avg_iterations_range.png\" style=\"max-width:100%;border:1px solid #ddd\"/></td><td style=\"width:50%;text-align:center\"><div style=\"font-size:12px;color:#555\">commit_pred — cutoff 0.97</div><img src=\"/data/ddmg/mvseg-ordering/experiments/scripts/experiment_3/commit_pred_97/A/results/figures/plan_c_avg_iterations_range.png\" style=\"max-width:100%;border:1px solid #ddd\"/></td></tr>\n",
       "<tr><td colspan=2 style=\"text-align:center;font-weight:600;padding-top:14px\">plan_c_total_iterations.png</td></tr>\n",
       "<tr><td style=\"width:50%;text-align:center\"><div style=\"font-size:12px;color:#555\">commit_label — cutoff 0.90</div><img src=\"/data/ddmg/mvseg-ordering/experiments/scripts/experiment_3/commit_label_90/A/results/figures/plan_c_total_iterations.png\" style=\"max-width:100%;border:1px solid #ddd\"/></td><td style=\"width:50%;text-align:center\"><div style=\"font-size:12px;color:#555\">commit_label — cutoff 0.97</div><img src=\"/data/ddmg/mvseg-ordering/experiments/scripts/experiment_3/commit_label_97/A/results/figures/plan_c_total_iterations.png\" style=\"max-width:100%;border:1px solid #ddd\"/></td></tr>\n",
       "<tr><td style=\"width:50%;text-align:center\"><div style=\"font-size:12px;color:#555\">commit_pred — cutoff 0.90</div><img src=\"/data/ddmg/mvseg-ordering/experiments/scripts/experiment_3/commit_pred_90/A/results/figures/plan_c_total_iterations.png\" style=\"max-width:100%;border:1px solid #ddd\"/></td><td style=\"width:50%;text-align:center\"><div style=\"font-size:12px;color:#555\">commit_pred — cutoff 0.97</div><img src=\"/data/ddmg/mvseg-ordering/experiments/scripts/experiment_3/commit_pred_97/A/results/figures/plan_c_total_iterations.png\" style=\"max-width:100%;border:1px solid #ddd\"/></td></tr></table>"
      ],
      "text/plain": [
       "<IPython.core.display.HTML object>"
      ]
     },
     "metadata": {},
     "output_type": "display_data"
    }
   ],
   "source": [
    "label_map = build_pairs_map(plan_a_figures(paths['commit_label_90']), plan_a_figures(paths['commit_label_97']), is_plan_c)\n",
    "pred_map = build_pairs_map(plan_a_figures(paths['commit_pred_90']), plan_a_figures(paths['commit_pred_97']), is_plan_c)\n",
    "show_interleaved('Plan C — Interleaved (commit_label & commit_pred)', label_map, pred_map)\n"
   ]
  },
  {
   "cell_type": "markdown",
   "id": "d80d98a2",
   "metadata": {},
   "source": [
    "## Plan B — Interleaved Label/Pred"
   ]
  },
  {
   "cell_type": "code",
   "execution_count": 4,
   "id": "7068a65b",
   "metadata": {},
   "outputs": [
    {
     "data": {
      "text/html": [
       "<h2 style=\"margin-top:18px\">Plan B — Interleaved (commit_label & commit_pred)</h2>"
      ],
      "text/plain": [
       "<IPython.core.display.HTML object>"
      ]
     },
     "metadata": {},
     "output_type": "display_data"
    },
    {
     "data": {
      "text/html": [
       "<table style=\"width:100%\"><tr><td colspan=2 style=\"text-align:center;font-weight:600;padding-top:14px\">subset_final_dice_iqr.png</td></tr>\n",
       "<tr><td style=\"width:50%;text-align:center\"><div style=\"font-size:12px;color:#555\">commit_label — cutoff 0.90</div><img src=\"/data/ddmg/mvseg-ordering/experiments/scripts/experiment_3/commit_label_90/B/figures/subset_final_dice_iqr.png\" style=\"max-width:100%;border:1px solid #ddd\"/></td><td style=\"width:50%;text-align:center\"><div style=\"font-size:12px;color:#555\">commit_label — cutoff 0.97</div><img src=\"/data/ddmg/mvseg-ordering/experiments/scripts/experiment_3/commit_label_97/B/figures/subset_final_dice_iqr.png\" style=\"max-width:100%;border:1px solid #ddd\"/></td></tr>\n",
       "<tr><td style=\"width:50%;text-align:center\"><div style=\"font-size:12px;color:#555\">commit_pred — cutoff 0.90</div><img src=\"/data/ddmg/mvseg-ordering/experiments/scripts/experiment_3/commit_pred_90/B/figures/subset_final_dice_iqr.png\" style=\"max-width:100%;border:1px solid #ddd\"/></td><td style=\"width:50%;text-align:center\"><div style=\"font-size:12px;color:#555\">commit_pred — cutoff 0.97</div><img src=\"/data/ddmg/mvseg-ordering/experiments/scripts/experiment_3/commit_pred_97/B/figures/subset_final_dice_iqr.png\" style=\"max-width:100%;border:1px solid #ddd\"/></td></tr>\n",
       "<tr><td colspan=2 style=\"text-align:center;font-weight:600;padding-top:14px\">subset_final_dice_range.png</td></tr>\n",
       "<tr><td style=\"width:50%;text-align:center\"><div style=\"font-size:12px;color:#555\">commit_label — cutoff 0.90</div><img src=\"/data/ddmg/mvseg-ordering/experiments/scripts/experiment_3/commit_label_90/B/figures/subset_final_dice_range.png\" style=\"max-width:100%;border:1px solid #ddd\"/></td><td style=\"width:50%;text-align:center\"><div style=\"font-size:12px;color:#555\">commit_label — cutoff 0.97</div><img src=\"/data/ddmg/mvseg-ordering/experiments/scripts/experiment_3/commit_label_97/B/figures/subset_final_dice_range.png\" style=\"max-width:100%;border:1px solid #ddd\"/></td></tr>\n",
       "<tr><td style=\"width:50%;text-align:center\"><div style=\"font-size:12px;color:#555\">commit_pred — cutoff 0.90</div><img src=\"/data/ddmg/mvseg-ordering/experiments/scripts/experiment_3/commit_pred_90/B/figures/subset_final_dice_range.png\" style=\"max-width:100%;border:1px solid #ddd\"/></td><td style=\"width:50%;text-align:center\"><div style=\"font-size:12px;color:#555\">commit_pred — cutoff 0.97</div><img src=\"/data/ddmg/mvseg-ordering/experiments/scripts/experiment_3/commit_pred_97/B/figures/subset_final_dice_range.png\" style=\"max-width:100%;border:1px solid #ddd\"/></td></tr>\n",
       "<tr><td colspan=2 style=\"text-align:center;font-weight:600;padding-top:14px\">subset_initial_dice_iqr.png</td></tr>\n",
       "<tr><td style=\"width:50%;text-align:center\"><div style=\"font-size:12px;color:#555\">commit_label — cutoff 0.90</div><img src=\"/data/ddmg/mvseg-ordering/experiments/scripts/experiment_3/commit_label_90/B/figures/subset_initial_dice_iqr.png\" style=\"max-width:100%;border:1px solid #ddd\"/></td><td style=\"width:50%;text-align:center\"><div style=\"font-size:12px;color:#555\">commit_label — cutoff 0.97</div><img src=\"/data/ddmg/mvseg-ordering/experiments/scripts/experiment_3/commit_label_97/B/figures/subset_initial_dice_iqr.png\" style=\"max-width:100%;border:1px solid #ddd\"/></td></tr>\n",
       "<tr><td style=\"width:50%;text-align:center\"><div style=\"font-size:12px;color:#555\">commit_pred — cutoff 0.90</div><img src=\"/data/ddmg/mvseg-ordering/experiments/scripts/experiment_3/commit_pred_90/B/figures/subset_initial_dice_iqr.png\" style=\"max-width:100%;border:1px solid #ddd\"/></td><td style=\"width:50%;text-align:center\"><div style=\"font-size:12px;color:#555\">commit_pred — cutoff 0.97</div><img src=\"/data/ddmg/mvseg-ordering/experiments/scripts/experiment_3/commit_pred_97/B/figures/subset_initial_dice_iqr.png\" style=\"max-width:100%;border:1px solid #ddd\"/></td></tr>\n",
       "<tr><td colspan=2 style=\"text-align:center;font-weight:600;padding-top:14px\">subset_initial_dice_range.png</td></tr>\n",
       "<tr><td style=\"width:50%;text-align:center\"><div style=\"font-size:12px;color:#555\">commit_label — cutoff 0.90</div><img src=\"/data/ddmg/mvseg-ordering/experiments/scripts/experiment_3/commit_label_90/B/figures/subset_initial_dice_range.png\" style=\"max-width:100%;border:1px solid #ddd\"/></td><td style=\"width:50%;text-align:center\"><div style=\"font-size:12px;color:#555\">commit_label — cutoff 0.97</div><img src=\"/data/ddmg/mvseg-ordering/experiments/scripts/experiment_3/commit_label_97/B/figures/subset_initial_dice_range.png\" style=\"max-width:100%;border:1px solid #ddd\"/></td></tr>\n",
       "<tr><td style=\"width:50%;text-align:center\"><div style=\"font-size:12px;color:#555\">commit_pred — cutoff 0.90</div><img src=\"/data/ddmg/mvseg-ordering/experiments/scripts/experiment_3/commit_pred_90/B/figures/subset_initial_dice_range.png\" style=\"max-width:100%;border:1px solid #ddd\"/></td><td style=\"width:50%;text-align:center\"><div style=\"font-size:12px;color:#555\">commit_pred — cutoff 0.97</div><img src=\"/data/ddmg/mvseg-ordering/experiments/scripts/experiment_3/commit_pred_97/B/figures/subset_initial_dice_range.png\" style=\"max-width:100%;border:1px solid #ddd\"/></td></tr>\n",
       "<tr><td colspan=2 style=\"text-align:center;font-weight:600;padding-top:14px\">subset_iterations_iqr.png</td></tr>\n",
       "<tr><td style=\"width:50%;text-align:center\"><div style=\"font-size:12px;color:#555\">commit_label — cutoff 0.90</div><img src=\"/data/ddmg/mvseg-ordering/experiments/scripts/experiment_3/commit_label_90/B/figures/subset_iterations_iqr.png\" style=\"max-width:100%;border:1px solid #ddd\"/></td><td style=\"width:50%;text-align:center\"><div style=\"font-size:12px;color:#555\">commit_label — cutoff 0.97</div><img src=\"/data/ddmg/mvseg-ordering/experiments/scripts/experiment_3/commit_label_97/B/figures/subset_iterations_iqr.png\" style=\"max-width:100%;border:1px solid #ddd\"/></td></tr>\n",
       "<tr><td style=\"width:50%;text-align:center\"><div style=\"font-size:12px;color:#555\">commit_pred — cutoff 0.90</div><img src=\"/data/ddmg/mvseg-ordering/experiments/scripts/experiment_3/commit_pred_90/B/figures/subset_iterations_iqr.png\" style=\"max-width:100%;border:1px solid #ddd\"/></td><td style=\"width:50%;text-align:center\"><div style=\"font-size:12px;color:#555\">commit_pred — cutoff 0.97</div><img src=\"/data/ddmg/mvseg-ordering/experiments/scripts/experiment_3/commit_pred_97/B/figures/subset_iterations_iqr.png\" style=\"max-width:100%;border:1px solid #ddd\"/></td></tr>\n",
       "<tr><td colspan=2 style=\"text-align:center;font-weight:600;padding-top:14px\">subset_iterations_range.png</td></tr>\n",
       "<tr><td style=\"width:50%;text-align:center\"><div style=\"font-size:12px;color:#555\">commit_label — cutoff 0.90</div><img src=\"/data/ddmg/mvseg-ordering/experiments/scripts/experiment_3/commit_label_90/B/figures/subset_iterations_range.png\" style=\"max-width:100%;border:1px solid #ddd\"/></td><td style=\"width:50%;text-align:center\"><div style=\"font-size:12px;color:#555\">commit_label — cutoff 0.97</div><img src=\"/data/ddmg/mvseg-ordering/experiments/scripts/experiment_3/commit_label_97/B/figures/subset_iterations_range.png\" style=\"max-width:100%;border:1px solid #ddd\"/></td></tr>\n",
       "<tr><td style=\"width:50%;text-align:center\"><div style=\"font-size:12px;color:#555\">commit_pred — cutoff 0.90</div><img src=\"/data/ddmg/mvseg-ordering/experiments/scripts/experiment_3/commit_pred_90/B/figures/subset_iterations_range.png\" style=\"max-width:100%;border:1px solid #ddd\"/></td><td style=\"width:50%;text-align:center\"><div style=\"font-size:12px;color:#555\">commit_pred — cutoff 0.97</div><img src=\"/data/ddmg/mvseg-ordering/experiments/scripts/experiment_3/commit_pred_97/B/figures/subset_iterations_range.png\" style=\"max-width:100%;border:1px solid #ddd\"/></td></tr>\n",
       "<tr><td colspan=2 style=\"text-align:center;font-weight:600;padding-top:14px\">subset_iterations_total_iqr.png</td></tr>\n",
       "<tr><td style=\"width:50%;text-align:center\"><div style=\"font-size:12px;color:#555\">commit_label — cutoff 0.90</div><img src=\"/data/ddmg/mvseg-ordering/experiments/scripts/experiment_3/commit_label_90/B/figures/subset_iterations_total_iqr.png\" style=\"max-width:100%;border:1px solid #ddd\"/></td><td style=\"width:50%;text-align:center\"><div style=\"font-size:12px;color:#555\">commit_label — cutoff 0.97</div><img src=\"/data/ddmg/mvseg-ordering/experiments/scripts/experiment_3/commit_label_97/B/figures/subset_iterations_total_iqr.png\" style=\"max-width:100%;border:1px solid #ddd\"/></td></tr>\n",
       "<tr><td style=\"width:50%;text-align:center\"><div style=\"font-size:12px;color:#555\">commit_pred — cutoff 0.90</div><img src=\"/data/ddmg/mvseg-ordering/experiments/scripts/experiment_3/commit_pred_90/B/figures/subset_iterations_total_iqr.png\" style=\"max-width:100%;border:1px solid #ddd\"/></td><td style=\"width:50%;text-align:center\"><div style=\"font-size:12px;color:#555\">commit_pred — cutoff 0.97</div><img src=\"/data/ddmg/mvseg-ordering/experiments/scripts/experiment_3/commit_pred_97/B/figures/subset_iterations_total_iqr.png\" style=\"max-width:100%;border:1px solid #ddd\"/></td></tr>\n",
       "<tr><td colspan=2 style=\"text-align:center;font-weight:600;padding-top:14px\">subset_iterations_total_range.png</td></tr>\n",
       "<tr><td style=\"width:50%;text-align:center\"><div style=\"font-size:12px;color:#555\">commit_label — cutoff 0.90</div><img src=\"/data/ddmg/mvseg-ordering/experiments/scripts/experiment_3/commit_label_90/B/figures/subset_iterations_total_range.png\" style=\"max-width:100%;border:1px solid #ddd\"/></td><td style=\"width:50%;text-align:center\"><div style=\"font-size:12px;color:#555\">commit_label — cutoff 0.97</div><img src=\"/data/ddmg/mvseg-ordering/experiments/scripts/experiment_3/commit_label_97/B/figures/subset_iterations_total_range.png\" style=\"max-width:100%;border:1px solid #ddd\"/></td></tr>\n",
       "<tr><td style=\"width:50%;text-align:center\"><div style=\"font-size:12px;color:#555\">commit_pred — cutoff 0.90</div><img src=\"/data/ddmg/mvseg-ordering/experiments/scripts/experiment_3/commit_pred_90/B/figures/subset_iterations_total_range.png\" style=\"max-width:100%;border:1px solid #ddd\"/></td><td style=\"width:50%;text-align:center\"><div style=\"font-size:12px;color:#555\">commit_pred — cutoff 0.97</div><img src=\"/data/ddmg/mvseg-ordering/experiments/scripts/experiment_3/commit_pred_97/B/figures/subset_iterations_total_range.png\" style=\"max-width:100%;border:1px solid #ddd\"/></td></tr></table>"
      ],
      "text/plain": [
       "<IPython.core.display.HTML object>"
      ]
     },
     "metadata": {},
     "output_type": "display_data"
    }
   ],
   "source": [
    "label_map = build_pairs_map(plan_b_figures(paths['commit_label_90']), plan_b_figures(paths['commit_label_97']))\n",
    "pred_map = build_pairs_map(plan_b_figures(paths['commit_pred_90']), plan_b_figures(paths['commit_pred_97']))\n",
    "show_interleaved('Plan B — Interleaved (commit_label & commit_pred)', label_map, pred_map)\n"
   ]
  }
 ],
 "metadata": {
  "kernelspec": {
   "display_name": "Python (mvseg-ordering-env)",
   "language": "python",
   "name": "mvseg-ordering-env"
  },
  "language_info": {
   "codemirror_mode": {
    "name": "ipython",
    "version": 3
   },
   "file_extension": ".py",
   "mimetype": "text/x-python",
   "name": "python",
   "nbconvert_exporter": "python",
   "pygments_lexer": "ipython3",
   "version": "3.10.19"
  }
 },
 "nbformat": 4,
 "nbformat_minor": 5
}
