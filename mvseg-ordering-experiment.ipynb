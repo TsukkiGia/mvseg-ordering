{
 "cells": [
  {
   "cell_type": "code",
   "execution_count": 13,
   "id": "c374a4ce",
   "metadata": {},
   "outputs": [],
   "source": [
    "import sys\n",
    "from PIL import Image\n",
    "sys.path.append('./MultiverSeg')"
   ]
  },
  {
   "cell_type": "code",
   "execution_count": 39,
   "id": "d5bc505f",
   "metadata": {},
   "outputs": [
    {
     "name": "stdout",
     "output_type": "stream",
     "text": [
      "torch.Size([1, 128, 128]) torch.Size([3, 128, 128])\n",
      "torch.Size([1, 128, 128]) torch.Size([3, 128, 128])\n",
      "(tensor([[[0.9882, 1.0000, 1.0000,  ..., 1.0000, 1.0000, 1.0000],\n",
      "         [0.9922, 1.0000, 1.0000,  ..., 1.0000, 1.0000, 1.0000],\n",
      "         [0.9922, 0.9961, 1.0000,  ..., 1.0000, 1.0000, 1.0000],\n",
      "         ...,\n",
      "         [1.0000, 1.0000, 1.0000,  ..., 1.0000, 1.0000, 1.0000],\n",
      "         [1.0000, 1.0000, 1.0000,  ..., 1.0000, 1.0000, 1.0000],\n",
      "         [1.0000, 1.0000, 1.0000,  ..., 1.0000, 1.0000, 0.9922]]]), tensor([[[0., 0., 0.,  ..., 0., 0., 0.],\n",
      "         [0., 0., 0.,  ..., 0., 0., 0.],\n",
      "         [0., 0., 0.,  ..., 0., 0., 0.],\n",
      "         ...,\n",
      "         [0., 0., 0.,  ..., 0., 0., 0.],\n",
      "         [0., 0., 0.,  ..., 0., 0., 0.],\n",
      "         [0., 0., 0.,  ..., 0., 0., 0.]]]))\n",
      "torch.Size([10, 1, 128, 128]) torch.Size([10, 1, 128, 128])\n"
     ]
    }
   ],
   "source": [
    "import multiverseg\n",
    "import numpy as np\n",
    "import torch\n",
    "import itertools\n",
    "from multiverseg.datasets.wbc import WBCDataset\n",
    "\n",
    "train_split = 0.6\n",
    "d_support = WBCDataset('JTSC', split='support', label='nucleus', support_frac=train_split)\n",
    "d_test = WBCDataset('JTSC', split='test', label='nucleus', support_frac=train_split)\n",
    "print(d_support[0])\n",
    "\n",
    "support_images, support_labels = zip(*itertools.islice(d_support, 10))\n",
    "support_images = torch.stack(support_images).to(\"cpu\")\n",
    "support_labels = torch.stack(support_labels).to(\"cpu\")\n",
    "print(support_images.shape, support_labels.shape)\n",
    "\n",
    "\n"
   ]
  },
  {
   "cell_type": "code",
   "execution_count": null,
   "id": "d2966c3c",
   "metadata": {},
   "outputs": [
    {
     "name": "stdout",
     "output_type": "stream",
     "text": [
      "torch.Size([1, 128, 128]) torch.Size([3, 128, 128])\n",
      "torch.Size([1, 128, 128]) torch.Size([3, 128, 128])\n",
      "WBCDataset(dataset='JTSC', split='support', label='nucleus', support_frac=0.6)\n"
     ]
    }
   ],
   "source": [
    "# Helpful plotting functions\n",
    "import os\n",
    "os.environ['NEURITE_BACKEND'] = 'pytorch'\n",
    "import neurite as ne"
   ]
  }
 ],
 "metadata": {
  "kernelspec": {
   "display_name": "Python (mvseg-ordering-env)",
   "language": "python",
   "name": "mvseg-ordering-env"
  },
  "language_info": {
   "codemirror_mode": {
    "name": "ipython",
    "version": 3
   },
   "file_extension": ".py",
   "mimetype": "text/x-python",
   "name": "python",
   "nbconvert_exporter": "python",
   "pygments_lexer": "ipython3",
   "version": "3.10.18"
  }
 },
 "nbformat": 4,
 "nbformat_minor": 5
}
